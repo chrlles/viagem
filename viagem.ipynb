{
 "cells": [
  {
   "cell_type": "markdown",
   "id": "d026fe92",
   "metadata": {},
   "source": [
    "# Viagem "
   ]
  },
  {
   "cell_type": "markdown",
   "id": "30872a7d",
   "metadata": {},
   "source": [
    "## Etapas:\n",
    "\n",
    " Passo 1: Entender os dados (as informações que eles querem passar)<br>\n",
    " passo 2: Verificar se a tabela está boas condições para tirar as informações<br>\n",
    " passo 3: Fazer pequenas anotações dos dados<br>\n",
    " passo 4: Exploração com grãficos<br>\n",
    " passo 5: resumo final com informações da análise"
   ]
  },
  {
   "cell_type": "code",
   "execution_count": 1,
   "id": "828b38b7",
   "metadata": {},
   "outputs": [
    {
     "data": {
      "text/html": [
       "<div>\n",
       "<style scoped>\n",
       "    .dataframe tbody tr th:only-of-type {\n",
       "        vertical-align: middle;\n",
       "    }\n",
       "\n",
       "    .dataframe tbody tr th {\n",
       "        vertical-align: top;\n",
       "    }\n",
       "\n",
       "    .dataframe thead th {\n",
       "        text-align: right;\n",
       "    }\n",
       "</style>\n",
       "<table border=\"1\" class=\"dataframe\">\n",
       "  <thead>\n",
       "    <tr style=\"text-align: right;\">\n",
       "      <th></th>\n",
       "      <th>travelCode</th>\n",
       "      <th>userCode</th>\n",
       "      <th>from</th>\n",
       "      <th>to</th>\n",
       "      <th>flightType</th>\n",
       "      <th>price</th>\n",
       "      <th>time</th>\n",
       "      <th>distance</th>\n",
       "      <th>agency</th>\n",
       "      <th>date</th>\n",
       "    </tr>\n",
       "  </thead>\n",
       "  <tbody>\n",
       "    <tr>\n",
       "      <th>0</th>\n",
       "      <td>0</td>\n",
       "      <td>0</td>\n",
       "      <td>Recife (PE)</td>\n",
       "      <td>Florianopolis (SC)</td>\n",
       "      <td>firstClass</td>\n",
       "      <td>1434.38</td>\n",
       "      <td>1.76</td>\n",
       "      <td>676.53</td>\n",
       "      <td>FlyingDrops</td>\n",
       "      <td>09/26/2019</td>\n",
       "    </tr>\n",
       "    <tr>\n",
       "      <th>1</th>\n",
       "      <td>0</td>\n",
       "      <td>0</td>\n",
       "      <td>Florianopolis (SC)</td>\n",
       "      <td>Recife (PE)</td>\n",
       "      <td>firstClass</td>\n",
       "      <td>1292.29</td>\n",
       "      <td>1.76</td>\n",
       "      <td>676.53</td>\n",
       "      <td>FlyingDrops</td>\n",
       "      <td>09/30/2019</td>\n",
       "    </tr>\n",
       "    <tr>\n",
       "      <th>2</th>\n",
       "      <td>1</td>\n",
       "      <td>0</td>\n",
       "      <td>Brasilia (DF)</td>\n",
       "      <td>Florianopolis (SC)</td>\n",
       "      <td>firstClass</td>\n",
       "      <td>1487.52</td>\n",
       "      <td>1.66</td>\n",
       "      <td>637.56</td>\n",
       "      <td>CloudFy</td>\n",
       "      <td>10/03/2019</td>\n",
       "    </tr>\n",
       "    <tr>\n",
       "      <th>3</th>\n",
       "      <td>1</td>\n",
       "      <td>0</td>\n",
       "      <td>Florianopolis (SC)</td>\n",
       "      <td>Brasilia (DF)</td>\n",
       "      <td>firstClass</td>\n",
       "      <td>1127.36</td>\n",
       "      <td>1.66</td>\n",
       "      <td>637.56</td>\n",
       "      <td>CloudFy</td>\n",
       "      <td>10/04/2019</td>\n",
       "    </tr>\n",
       "    <tr>\n",
       "      <th>4</th>\n",
       "      <td>2</td>\n",
       "      <td>0</td>\n",
       "      <td>Aracaju (SE)</td>\n",
       "      <td>Salvador (BH)</td>\n",
       "      <td>firstClass</td>\n",
       "      <td>1684.05</td>\n",
       "      <td>2.16</td>\n",
       "      <td>830.86</td>\n",
       "      <td>CloudFy</td>\n",
       "      <td>10/10/2019</td>\n",
       "    </tr>\n",
       "  </tbody>\n",
       "</table>\n",
       "</div>"
      ],
      "text/plain": [
       "   travelCode  userCode                from                  to  flightType  \\\n",
       "0           0         0         Recife (PE)  Florianopolis (SC)  firstClass   \n",
       "1           0         0  Florianopolis (SC)         Recife (PE)  firstClass   \n",
       "2           1         0       Brasilia (DF)  Florianopolis (SC)  firstClass   \n",
       "3           1         0  Florianopolis (SC)       Brasilia (DF)  firstClass   \n",
       "4           2         0        Aracaju (SE)       Salvador (BH)  firstClass   \n",
       "\n",
       "     price  time  distance       agency        date  \n",
       "0  1434.38  1.76    676.53  FlyingDrops  09/26/2019  \n",
       "1  1292.29  1.76    676.53  FlyingDrops  09/30/2019  \n",
       "2  1487.52  1.66    637.56      CloudFy  10/03/2019  \n",
       "3  1127.36  1.66    637.56      CloudFy  10/04/2019  \n",
       "4  1684.05  2.16    830.86      CloudFy  10/10/2019  "
      ]
     },
     "execution_count": 1,
     "metadata": {},
     "output_type": "execute_result"
    }
   ],
   "source": [
    "# bibliotecas\n",
    "import seaborn as sns\n",
    "import matplotlib.pyplot as plt\n",
    "import pandas as pd\n",
    "df = pd.read_csv('flights.csv')\n",
    "df.head()"
   ]
  },
  {
   "cell_type": "code",
   "execution_count": 3,
   "id": "d377b15a",
   "metadata": {},
   "outputs": [
    {
     "name": "stdout",
     "output_type": "stream",
     "text": [
      "<class 'pandas.core.frame.DataFrame'>\n",
      "RangeIndex: 271888 entries, 0 to 271887\n",
      "Data columns (total 10 columns):\n",
      " #   Column      Non-Null Count   Dtype  \n",
      "---  ------      --------------   -----  \n",
      " 0   travelCode  271888 non-null  int64  \n",
      " 1   userCode    271888 non-null  int64  \n",
      " 2   from        271888 non-null  object \n",
      " 3   to          271888 non-null  object \n",
      " 4   flightType  271888 non-null  object \n",
      " 5   price       271888 non-null  float64\n",
      " 6   time        271888 non-null  float64\n",
      " 7   distance    271888 non-null  float64\n",
      " 8   agency      271888 non-null  object \n",
      " 9   date        271888 non-null  object \n",
      "dtypes: float64(3), int64(2), object(5)\n",
      "memory usage: 20.7+ MB\n"
     ]
    }
   ],
   "source": [
    "df.info()"
   ]
  },
  {
   "cell_type": "code",
   "execution_count": 4,
   "id": "8e2449ec",
   "metadata": {},
   "outputs": [],
   "source": [
    "# excluindo colunas sem informações importantes\n",
    "df = df.drop(['travelCode', 'userCode'], axis=1)"
   ]
  },
  {
   "cell_type": "code",
   "execution_count": 5,
   "id": "adcf4aca",
   "metadata": {},
   "outputs": [
    {
     "data": {
      "text/html": [
       "<div>\n",
       "<style scoped>\n",
       "    .dataframe tbody tr th:only-of-type {\n",
       "        vertical-align: middle;\n",
       "    }\n",
       "\n",
       "    .dataframe tbody tr th {\n",
       "        vertical-align: top;\n",
       "    }\n",
       "\n",
       "    .dataframe thead th {\n",
       "        text-align: right;\n",
       "    }\n",
       "</style>\n",
       "<table border=\"1\" class=\"dataframe\">\n",
       "  <thead>\n",
       "    <tr style=\"text-align: right;\">\n",
       "      <th></th>\n",
       "      <th>from</th>\n",
       "      <th>to</th>\n",
       "      <th>flightType</th>\n",
       "      <th>price</th>\n",
       "      <th>time</th>\n",
       "      <th>distance</th>\n",
       "      <th>agency</th>\n",
       "      <th>date</th>\n",
       "      <th>month</th>\n",
       "    </tr>\n",
       "  </thead>\n",
       "  <tbody>\n",
       "    <tr>\n",
       "      <th>0</th>\n",
       "      <td>Recife (PE)</td>\n",
       "      <td>Florianopolis (SC)</td>\n",
       "      <td>firstClass</td>\n",
       "      <td>1434.38</td>\n",
       "      <td>1.76</td>\n",
       "      <td>676.53</td>\n",
       "      <td>FlyingDrops</td>\n",
       "      <td>09/26/2019</td>\n",
       "      <td>09</td>\n",
       "    </tr>\n",
       "    <tr>\n",
       "      <th>1</th>\n",
       "      <td>Florianopolis (SC)</td>\n",
       "      <td>Recife (PE)</td>\n",
       "      <td>firstClass</td>\n",
       "      <td>1292.29</td>\n",
       "      <td>1.76</td>\n",
       "      <td>676.53</td>\n",
       "      <td>FlyingDrops</td>\n",
       "      <td>09/30/2019</td>\n",
       "      <td>09</td>\n",
       "    </tr>\n",
       "    <tr>\n",
       "      <th>2</th>\n",
       "      <td>Brasilia (DF)</td>\n",
       "      <td>Florianopolis (SC)</td>\n",
       "      <td>firstClass</td>\n",
       "      <td>1487.52</td>\n",
       "      <td>1.66</td>\n",
       "      <td>637.56</td>\n",
       "      <td>CloudFy</td>\n",
       "      <td>10/03/2019</td>\n",
       "      <td>10</td>\n",
       "    </tr>\n",
       "    <tr>\n",
       "      <th>3</th>\n",
       "      <td>Florianopolis (SC)</td>\n",
       "      <td>Brasilia (DF)</td>\n",
       "      <td>firstClass</td>\n",
       "      <td>1127.36</td>\n",
       "      <td>1.66</td>\n",
       "      <td>637.56</td>\n",
       "      <td>CloudFy</td>\n",
       "      <td>10/04/2019</td>\n",
       "      <td>10</td>\n",
       "    </tr>\n",
       "    <tr>\n",
       "      <th>4</th>\n",
       "      <td>Aracaju (SE)</td>\n",
       "      <td>Salvador (BH)</td>\n",
       "      <td>firstClass</td>\n",
       "      <td>1684.05</td>\n",
       "      <td>2.16</td>\n",
       "      <td>830.86</td>\n",
       "      <td>CloudFy</td>\n",
       "      <td>10/10/2019</td>\n",
       "      <td>10</td>\n",
       "    </tr>\n",
       "  </tbody>\n",
       "</table>\n",
       "</div>"
      ],
      "text/plain": [
       "                 from                  to  flightType    price  time  \\\n",
       "0         Recife (PE)  Florianopolis (SC)  firstClass  1434.38  1.76   \n",
       "1  Florianopolis (SC)         Recife (PE)  firstClass  1292.29  1.76   \n",
       "2       Brasilia (DF)  Florianopolis (SC)  firstClass  1487.52  1.66   \n",
       "3  Florianopolis (SC)       Brasilia (DF)  firstClass  1127.36  1.66   \n",
       "4        Aracaju (SE)       Salvador (BH)  firstClass  1684.05  2.16   \n",
       "\n",
       "   distance       agency        date month  \n",
       "0    676.53  FlyingDrops  09/26/2019    09  \n",
       "1    676.53  FlyingDrops  09/30/2019    09  \n",
       "2    637.56      CloudFy  10/03/2019    10  \n",
       "3    637.56      CloudFy  10/04/2019    10  \n",
       "4    830.86      CloudFy  10/10/2019    10  "
      ]
     },
     "execution_count": 5,
     "metadata": {},
     "output_type": "execute_result"
    }
   ],
   "source": [
    "# criando coluna month\n",
    "df['month'] = df['date'].str[:2]\n",
    "df.head()"
   ]
  },
  {
   "cell_type": "code",
   "execution_count": 6,
   "id": "cdec9173",
   "metadata": {},
   "outputs": [],
   "source": [
    "# df = df.rename(columns={'from':'origem', 'to':'destino', 'price':'preco', 'time':'tempo', 'flightType':'tipo_de_voo', 'distance':'distancia',\n",
    "#                'agency':'agencia', 'date':'data', 'month':'mes'})"
   ]
  },
  {
   "cell_type": "code",
   "execution_count": 7,
   "id": "fab2f72a",
   "metadata": {},
   "outputs": [],
   "source": [
    "# df.head()"
   ]
  },
  {
   "cell_type": "code",
   "execution_count": 8,
   "id": "13f46471",
   "metadata": {},
   "outputs": [],
   "source": [
    "# df['data'] = pd.to_datetime(df['data'])"
   ]
  },
  {
   "cell_type": "code",
   "execution_count": 9,
   "id": "dabe8fd3",
   "metadata": {},
   "outputs": [],
   "source": [
    "# df.info()"
   ]
  },
  {
   "cell_type": "code",
   "execution_count": 10,
   "id": "6ceffd68",
   "metadata": {},
   "outputs": [],
   "source": [
    "df['month'] = df['month'].sort_values(ascending=True)"
   ]
  },
  {
   "cell_type": "code",
   "execution_count": 11,
   "id": "678d3751",
   "metadata": {},
   "outputs": [
    {
     "data": {
      "text/plain": [
       "firstClass    42.8%\n",
       "premium       28.7%\n",
       "economic      28.5%\n",
       "Name: flightType, dtype: object"
      ]
     },
     "execution_count": 11,
     "metadata": {},
     "output_type": "execute_result"
    }
   ],
   "source": [
    "df['flightType'].value_counts(normalize=True).map('{:.1%}'.format)"
   ]
  },
  {
   "cell_type": "code",
   "execution_count": 12,
   "id": "60caf7f4",
   "metadata": {},
   "outputs": [
    {
     "data": {
      "text/plain": [
       "10    28980\n",
       "12    26346\n",
       "11    25764\n",
       "01    25587\n",
       "03    22741\n",
       "04    22607\n",
       "02    22387\n",
       "05    20968\n",
       "07    20113\n",
       "09    19468\n",
       "06    19061\n",
       "08    17866\n",
       "Name: month, dtype: int64"
      ]
     },
     "execution_count": 12,
     "metadata": {},
     "output_type": "execute_result"
    }
   ],
   "source": [
    "df['month'].value_counts()"
   ]
  },
  {
   "cell_type": "code",
   "execution_count": 13,
   "id": "cabc4b6a",
   "metadata": {},
   "outputs": [
    {
     "data": {
      "text/html": [
       "<div>\n",
       "<style scoped>\n",
       "    .dataframe tbody tr th:only-of-type {\n",
       "        vertical-align: middle;\n",
       "    }\n",
       "\n",
       "    .dataframe tbody tr th {\n",
       "        vertical-align: top;\n",
       "    }\n",
       "\n",
       "    .dataframe thead th {\n",
       "        text-align: right;\n",
       "    }\n",
       "</style>\n",
       "<table border=\"1\" class=\"dataframe\">\n",
       "  <thead>\n",
       "    <tr style=\"text-align: right;\">\n",
       "      <th></th>\n",
       "      <th>distance</th>\n",
       "    </tr>\n",
       "    <tr>\n",
       "      <th>to</th>\n",
       "      <th></th>\n",
       "    </tr>\n",
       "  </thead>\n",
       "  <tbody>\n",
       "    <tr>\n",
       "      <th>Aracaju (SE)</th>\n",
       "      <td>2.156430e+07</td>\n",
       "    </tr>\n",
       "    <tr>\n",
       "      <th>Brasilia (DF)</th>\n",
       "      <td>1.329986e+07</td>\n",
       "    </tr>\n",
       "    <tr>\n",
       "      <th>Campo Grande (MS)</th>\n",
       "      <td>1.666786e+07</td>\n",
       "    </tr>\n",
       "    <tr>\n",
       "      <th>Florianopolis (SC)</th>\n",
       "      <td>3.851577e+07</td>\n",
       "    </tr>\n",
       "    <tr>\n",
       "      <th>Natal (RN)</th>\n",
       "      <td>1.046009e+07</td>\n",
       "    </tr>\n",
       "    <tr>\n",
       "      <th>Recife (PE)</th>\n",
       "      <td>1.648266e+07</td>\n",
       "    </tr>\n",
       "    <tr>\n",
       "      <th>Rio de Janeiro (RJ)</th>\n",
       "      <td>9.260348e+06</td>\n",
       "    </tr>\n",
       "    <tr>\n",
       "      <th>Salvador (BH)</th>\n",
       "      <td>1.312948e+07</td>\n",
       "    </tr>\n",
       "    <tr>\n",
       "      <th>Sao Paulo (SP)</th>\n",
       "      <td>9.330273e+06</td>\n",
       "    </tr>\n",
       "  </tbody>\n",
       "</table>\n",
       "</div>"
      ],
      "text/plain": [
       "                         distance\n",
       "to                               \n",
       "Aracaju (SE)         2.156430e+07\n",
       "Brasilia (DF)        1.329986e+07\n",
       "Campo Grande (MS)    1.666786e+07\n",
       "Florianopolis (SC)   3.851577e+07\n",
       "Natal (RN)           1.046009e+07\n",
       "Recife (PE)          1.648266e+07\n",
       "Rio de Janeiro (RJ)  9.260348e+06\n",
       "Salvador (BH)        1.312948e+07\n",
       "Sao Paulo (SP)       9.330273e+06"
      ]
     },
     "execution_count": 13,
     "metadata": {},
     "output_type": "execute_result"
    }
   ],
   "source": [
    "distancia = df[['to', 'distance']].groupby(['to']).sum()\n",
    "distancia"
   ]
  },
  {
   "cell_type": "code",
   "execution_count": 14,
   "id": "434af7a3",
   "metadata": {},
   "outputs": [
    {
     "data": {
      "text/html": [
       "<div>\n",
       "<style scoped>\n",
       "    .dataframe tbody tr th:only-of-type {\n",
       "        vertical-align: middle;\n",
       "    }\n",
       "\n",
       "    .dataframe tbody tr th {\n",
       "        vertical-align: top;\n",
       "    }\n",
       "\n",
       "    .dataframe thead th {\n",
       "        text-align: right;\n",
       "    }\n",
       "</style>\n",
       "<table border=\"1\" class=\"dataframe\">\n",
       "  <thead>\n",
       "    <tr style=\"text-align: right;\">\n",
       "      <th></th>\n",
       "      <th>distance</th>\n",
       "    </tr>\n",
       "    <tr>\n",
       "      <th>month</th>\n",
       "      <th></th>\n",
       "    </tr>\n",
       "  </thead>\n",
       "  <tbody>\n",
       "    <tr>\n",
       "      <th>01</th>\n",
       "      <td>1.391138e+07</td>\n",
       "    </tr>\n",
       "    <tr>\n",
       "      <th>02</th>\n",
       "      <td>1.225976e+07</td>\n",
       "    </tr>\n",
       "    <tr>\n",
       "      <th>03</th>\n",
       "      <td>1.245824e+07</td>\n",
       "    </tr>\n",
       "    <tr>\n",
       "      <th>04</th>\n",
       "      <td>1.237290e+07</td>\n",
       "    </tr>\n",
       "    <tr>\n",
       "      <th>05</th>\n",
       "      <td>1.148928e+07</td>\n",
       "    </tr>\n",
       "    <tr>\n",
       "      <th>06</th>\n",
       "      <td>1.046268e+07</td>\n",
       "    </tr>\n",
       "    <tr>\n",
       "      <th>07</th>\n",
       "      <td>1.103239e+07</td>\n",
       "    </tr>\n",
       "    <tr>\n",
       "      <th>08</th>\n",
       "      <td>9.740708e+06</td>\n",
       "    </tr>\n",
       "    <tr>\n",
       "      <th>09</th>\n",
       "      <td>1.062955e+07</td>\n",
       "    </tr>\n",
       "    <tr>\n",
       "      <th>10</th>\n",
       "      <td>1.584600e+07</td>\n",
       "    </tr>\n",
       "    <tr>\n",
       "      <th>11</th>\n",
       "      <td>1.408996e+07</td>\n",
       "    </tr>\n",
       "    <tr>\n",
       "      <th>12</th>\n",
       "      <td>1.441781e+07</td>\n",
       "    </tr>\n",
       "  </tbody>\n",
       "</table>\n",
       "</div>"
      ],
      "text/plain": [
       "           distance\n",
       "month              \n",
       "01     1.391138e+07\n",
       "02     1.225976e+07\n",
       "03     1.245824e+07\n",
       "04     1.237290e+07\n",
       "05     1.148928e+07\n",
       "06     1.046268e+07\n",
       "07     1.103239e+07\n",
       "08     9.740708e+06\n",
       "09     1.062955e+07\n",
       "10     1.584600e+07\n",
       "11     1.408996e+07\n",
       "12     1.441781e+07"
      ]
     },
     "execution_count": 14,
     "metadata": {},
     "output_type": "execute_result"
    }
   ],
   "source": [
    "# desincia percorrida por mes: Outubro\n",
    "distancia = df[['distance', 'month']].groupby(['month']).sum()\n",
    "distancia"
   ]
  },
  {
   "cell_type": "code",
   "execution_count": 15,
   "id": "befc6422",
   "metadata": {},
   "outputs": [
    {
     "data": {
      "text/plain": [
       "10    28980\n",
       "12    26346\n",
       "11    25764\n",
       "01    25587\n",
       "03    22741\n",
       "04    22607\n",
       "02    22387\n",
       "05    20968\n",
       "07    20113\n",
       "09    19468\n",
       "06    19061\n",
       "08    17866\n",
       "Name: month, dtype: int64"
      ]
     },
     "execution_count": 15,
     "metadata": {},
     "output_type": "execute_result"
    }
   ],
   "source": [
    "df['month'].value_counts()"
   ]
  },
  {
   "cell_type": "code",
   "execution_count": 16,
   "id": "b4be0c51",
   "metadata": {},
   "outputs": [
    {
     "data": {
      "text/html": [
       "<div>\n",
       "<style scoped>\n",
       "    .dataframe tbody tr th:only-of-type {\n",
       "        vertical-align: middle;\n",
       "    }\n",
       "\n",
       "    .dataframe tbody tr th {\n",
       "        vertical-align: top;\n",
       "    }\n",
       "\n",
       "    .dataframe thead th {\n",
       "        text-align: right;\n",
       "    }\n",
       "</style>\n",
       "<table border=\"1\" class=\"dataframe\">\n",
       "  <thead>\n",
       "    <tr style=\"text-align: right;\">\n",
       "      <th></th>\n",
       "      <th>distance</th>\n",
       "    </tr>\n",
       "    <tr>\n",
       "      <th>to</th>\n",
       "      <th></th>\n",
       "    </tr>\n",
       "  </thead>\n",
       "  <tbody>\n",
       "    <tr>\n",
       "      <th>Aracaju (SE)</th>\n",
       "      <td>2.156430e+07</td>\n",
       "    </tr>\n",
       "    <tr>\n",
       "      <th>Brasilia (DF)</th>\n",
       "      <td>1.329986e+07</td>\n",
       "    </tr>\n",
       "    <tr>\n",
       "      <th>Campo Grande (MS)</th>\n",
       "      <td>1.666786e+07</td>\n",
       "    </tr>\n",
       "    <tr>\n",
       "      <th>Florianopolis (SC)</th>\n",
       "      <td>3.851577e+07</td>\n",
       "    </tr>\n",
       "    <tr>\n",
       "      <th>Natal (RN)</th>\n",
       "      <td>1.046009e+07</td>\n",
       "    </tr>\n",
       "    <tr>\n",
       "      <th>Recife (PE)</th>\n",
       "      <td>1.648266e+07</td>\n",
       "    </tr>\n",
       "    <tr>\n",
       "      <th>Rio de Janeiro (RJ)</th>\n",
       "      <td>9.260348e+06</td>\n",
       "    </tr>\n",
       "    <tr>\n",
       "      <th>Salvador (BH)</th>\n",
       "      <td>1.312948e+07</td>\n",
       "    </tr>\n",
       "    <tr>\n",
       "      <th>Sao Paulo (SP)</th>\n",
       "      <td>9.330273e+06</td>\n",
       "    </tr>\n",
       "  </tbody>\n",
       "</table>\n",
       "</div>"
      ],
      "text/plain": [
       "                         distance\n",
       "to                               \n",
       "Aracaju (SE)         2.156430e+07\n",
       "Brasilia (DF)        1.329986e+07\n",
       "Campo Grande (MS)    1.666786e+07\n",
       "Florianopolis (SC)   3.851577e+07\n",
       "Natal (RN)           1.046009e+07\n",
       "Recife (PE)          1.648266e+07\n",
       "Rio de Janeiro (RJ)  9.260348e+06\n",
       "Salvador (BH)        1.312948e+07\n",
       "Sao Paulo (SP)       9.330273e+06"
      ]
     },
     "execution_count": 16,
     "metadata": {},
     "output_type": "execute_result"
    }
   ],
   "source": [
    "distancia = df[['to', 'distance']].groupby(['to']).sum()\n",
    "distancia"
   ]
  },
  {
   "cell_type": "code",
   "execution_count": 17,
   "id": "6be992c8",
   "metadata": {},
   "outputs": [
    {
     "data": {
      "text/plain": [
       "<AxesSubplot:xlabel='to', ylabel='distance'>"
      ]
     },
     "execution_count": 17,
     "metadata": {},
     "output_type": "execute_result"
    },
    {
     "data": {
      "image/png": "[encoded data removed]",
      "text/plain": [
       "<Figure size 1008x504 with 1 Axes>"
      ]
     },
     "metadata": {
      "needs_background": "light"
     },
     "output_type": "display_data"
    }
   ],
   "source": [
    "plt.figure(figsize=(14,7))\n",
    "sns.scatterplot(data=df, x=df['to'], y='distance', hue='to', legend=False, size='distance')"
   ]
  },
  {
   "cell_type": "code",
   "execution_count": 18,
   "id": "9eefbbea",
   "metadata": {},
   "outputs": [
    {
     "data": {
      "text/plain": [
       "<AxesSubplot:xlabel='distance', ylabel='price'>"
      ]
     },
     "execution_count": 18,
     "metadata": {},
     "output_type": "execute_result"
    },
    {
     "data": {
      "image/png": "[encoded data removed]",
      "text/plain": [
       "<Figure size 720x360 with 1 Axes>"
      ]
     },
     "metadata": {
      "needs_background": "light"
     },
     "output_type": "display_data"
    }
   ],
   "source": [
    "# grafigo mostrando relaçao ente distancia e preço\n",
    "plt.figure(figsize=(10,5))\n",
    "sns.scatterplot(data=df, x='distance', y='price', hue='price', legend=False)"
   ]
  },
  {
   "cell_type": "code",
   "execution_count": 3,
   "id": "e1149fa7",
   "metadata": {},
   "outputs": [
    {
     "data": {
      "text/plain": [
       "<AxesSubplot:xlabel='price', ylabel='time'>"
      ]
     },
     "execution_count": 3,
     "metadata": {},
     "output_type": "execute_result"
    },
    {
     "data": {
      "image/png": "[encoded data removed]",
      "text/plain": [
       "<Figure size 432x288 with 1 Axes>"
      ]
     },
     "metadata": {
      "needs_background": "light"
     },
     "output_type": "display_data"
    }
   ],
   "source": [
    "sns.scatterplot(data=df, x='price',\n",
    "                y='time',\n",
    "                hue='flightType',\n",
    "                palette=['#F2B705', '#D95F69', '#8F93D9'],\n",
    "                size='price',\n",
    "                legend=False\n",
    "                )\n"
   ]
  },
  {
   "cell_type": "code",
   "execution_count": 20,
   "id": "9cd355f6",
   "metadata": {},
   "outputs": [
    {
     "data": {
      "text/plain": [
       "<AxesSubplot:xlabel='distance', ylabel='price'>"
      ]
     },
     "execution_count": 20,
     "metadata": {},
     "output_type": "execute_result"
    },
    {
     "data": {
      "image/png": "[encoded data removed]",
      "text/plain": [
       "<Figure size 720x360 with 1 Axes>"
      ]
     },
     "metadata": {
      "needs_background": "light"
     },
     "output_type": "display_data"
    }
   ],
   "source": [
    "plt.figure(figsize=(10,5))\n",
    "sns.scatterplot(data=df, x='distance', y='price', hue='flightType', palette=['#F2B138', '#668C4A', '#FF665A'], size='price', legend=False)"
   ]
  },
  {
   "cell_type": "code",
   "execution_count": 22,
   "id": "a0269e6d",
   "metadata": {},
   "outputs": [
    {
     "data": {
      "text/plain": [
       "<AxesSubplot:xlabel='month', ylabel='distance'>"
      ]
     },
     "execution_count": 22,
     "metadata": {},
     "output_type": "execute_result"
    },
    {
     "data": {
      "image/png": "[encoded data removed]",
      "text/plain": [
       "<Figure size 576x288 with 1 Axes>"
      ]
     },
     "metadata": {
      "needs_background": "light"
     },
     "output_type": "display_data"
    }
   ],
   "source": [
    "plt.figure(figsize=(8,4))\n",
    "sns.lineplot(data=df, x='month', y='distance', ci=None)"
   ]
  },
  {
   "cell_type": "code",
   "execution_count": 344,
   "id": "366c0b96",
   "metadata": {},
   "outputs": [
    {
     "data": {
      "text/plain": [
       "<AxesSubplot:xlabel='distance', ylabel='to'>"
      ]
     },
     "execution_count": 344,
     "metadata": {},
     "output_type": "execute_result"
    },
    {
     "data": {
      "image/png": "[encoded data removed]",
      "text/plain": [
       "<Figure size 432x288 with 1 Axes>"
      ]
     },
     "metadata": {
      "needs_background": "light"
     },
     "output_type": "display_data"
    }
   ],
   "source": [
    "sns.barplot(data=df, x='distance', y='to', ci=None)"
   ]
  },
  {
   "cell_type": "code",
   "execution_count": 345,
   "id": "940d9a58",
   "metadata": {},
   "outputs": [
    {
     "data": {
      "text/plain": [
       "<AxesSubplot:xlabel='price', ylabel='flightType'>"
      ]
     },
     "execution_count": 345,
     "metadata": {},
     "output_type": "execute_result"
    },
    {
     "data": {
      "image/png": "[encoded data removed]",
      "text/plain": [
       "<Figure size 432x288 with 1 Axes>"
      ]
     },
     "metadata": {
      "needs_background": "light"
     },
     "output_type": "display_data"
    }
   ],
   "source": [
    "# firstClass possui o maior preço de suas passgens\n",
    "sns.barplot(data=df, x='price', y='flightType', ci=None)"
   ]
  },
  {
   "cell_type": "code",
   "execution_count": 346,
   "id": "88f7e2d9",
   "metadata": {},
   "outputs": [
    {
     "data": {
      "text/plain": [
       "<AxesSubplot:xlabel='agency', ylabel='price'>"
      ]
     },
     "execution_count": 346,
     "metadata": {},
     "output_type": "execute_result"
    },
    {
     "data": {
      "image/png": "[encoded data removed]",
      "text/plain": [
       "<Figure size 432x288 with 1 Axes>"
      ]
     },
     "metadata": {
      "needs_background": "light"
     },
     "output_type": "display_data"
    }
   ],
   "source": [
    "# A agencia FlyingDrops possui o maior valor das suas passagen em comparação com as outras agencias\n",
    "sns.barplot(data=df, x='agency', y='price', ci=None)"
   ]
  },
  {
   "cell_type": "code",
   "execution_count": 347,
   "id": "c62c59f5",
   "metadata": {},
   "outputs": [],
   "source": [
    "distancia_regiao = df.groupby('to').agg({'distance':'sum'}).sort_values('distance', ascending = False).reset_index()"
   ]
  },
  {
   "cell_type": "code",
   "execution_count": 348,
   "id": "908d7b45",
   "metadata": {},
   "outputs": [
    {
     "data": {
      "text/html": [
       "<div>\n",
       "<style scoped>\n",
       "    .dataframe tbody tr th:only-of-type {\n",
       "        vertical-align: middle;\n",
       "    }\n",
       "\n",
       "    .dataframe tbody tr th {\n",
       "        vertical-align: top;\n",
       "    }\n",
       "\n",
       "    .dataframe thead th {\n",
       "        text-align: right;\n",
       "    }\n",
       "</style>\n",
       "<table border=\"1\" class=\"dataframe\">\n",
       "  <thead>\n",
       "    <tr style=\"text-align: right;\">\n",
       "      <th></th>\n",
       "      <th>to</th>\n",
       "      <th>distance</th>\n",
       "    </tr>\n",
       "  </thead>\n",
       "  <tbody>\n",
       "    <tr>\n",
       "      <th>0</th>\n",
       "      <td>Florianopolis (SC)</td>\n",
       "      <td>3.851577e+07</td>\n",
       "    </tr>\n",
       "    <tr>\n",
       "      <th>1</th>\n",
       "      <td>Aracaju (SE)</td>\n",
       "      <td>2.156430e+07</td>\n",
       "    </tr>\n",
       "    <tr>\n",
       "      <th>2</th>\n",
       "      <td>Campo Grande (MS)</td>\n",
       "      <td>1.666786e+07</td>\n",
       "    </tr>\n",
       "    <tr>\n",
       "      <th>3</th>\n",
       "      <td>Recife (PE)</td>\n",
       "      <td>1.648266e+07</td>\n",
       "    </tr>\n",
       "    <tr>\n",
       "      <th>4</th>\n",
       "      <td>Brasilia (DF)</td>\n",
       "      <td>1.329986e+07</td>\n",
       "    </tr>\n",
       "    <tr>\n",
       "      <th>5</th>\n",
       "      <td>Salvador (BH)</td>\n",
       "      <td>1.312948e+07</td>\n",
       "    </tr>\n",
       "    <tr>\n",
       "      <th>6</th>\n",
       "      <td>Natal (RN)</td>\n",
       "      <td>1.046009e+07</td>\n",
       "    </tr>\n",
       "    <tr>\n",
       "      <th>7</th>\n",
       "      <td>Sao Paulo (SP)</td>\n",
       "      <td>9.330273e+06</td>\n",
       "    </tr>\n",
       "    <tr>\n",
       "      <th>8</th>\n",
       "      <td>Rio de Janeiro (RJ)</td>\n",
       "      <td>9.260348e+06</td>\n",
       "    </tr>\n",
       "  </tbody>\n",
       "</table>\n",
       "</div>"
      ],
      "text/plain": [
       "                    to      distance\n",
       "0   Florianopolis (SC)  3.851577e+07\n",
       "1         Aracaju (SE)  2.156430e+07\n",
       "2    Campo Grande (MS)  1.666786e+07\n",
       "3          Recife (PE)  1.648266e+07\n",
       "4        Brasilia (DF)  1.329986e+07\n",
       "5        Salvador (BH)  1.312948e+07\n",
       "6           Natal (RN)  1.046009e+07\n",
       "7       Sao Paulo (SP)  9.330273e+06\n",
       "8  Rio de Janeiro (RJ)  9.260348e+06"
      ]
     },
     "execution_count": 348,
     "metadata": {},
     "output_type": "execute_result"
    }
   ],
   "source": [
    "distancia_regiao"
   ]
  },
  {
   "cell_type": "code",
   "execution_count": 349,
   "id": "7e372c05",
   "metadata": {},
   "outputs": [
    {
     "data": {
      "text/plain": [
       "<AxesSubplot:xlabel='distance', ylabel='to'>"
      ]
     },
     "execution_count": 349,
     "metadata": {},
     "output_type": "execute_result"
    },
    {
     "data": {
      "image/png": "[encoded data removed]",
      "text/plain": [
       "<Figure size 432x288 with 1 Axes>"
      ]
     },
     "metadata": {
      "needs_background": "light"
     },
     "output_type": "display_data"
    }
   ],
   "source": [
    "# Comparação entre destino e distancia o grafico de baixo igual\n",
    "# grande destaque para Florianopolis\n",
    "sns.barplot(y=distancia_regiao['to'], x=distancia_regiao['distance'])"
   ]
  },
  {
   "cell_type": "code",
   "execution_count": 350,
   "id": "6061ab44",
   "metadata": {},
   "outputs": [],
   "source": [
    "# groupby: preço total com o os valores voos e destino\n",
    "total_regiao = df.groupby('to').agg({'price':'sum'}).sort_values('price', ascending = False).reset_index()"
   ]
  },
  {
   "cell_type": "code",
   "execution_count": 351,
   "id": "e2276711",
   "metadata": {},
   "outputs": [
    {
     "data": {
      "text/html": [
       "<div>\n",
       "<style scoped>\n",
       "    .dataframe tbody tr th:only-of-type {\n",
       "        vertical-align: middle;\n",
       "    }\n",
       "\n",
       "    .dataframe tbody tr th {\n",
       "        vertical-align: top;\n",
       "    }\n",
       "\n",
       "    .dataframe thead th {\n",
       "        text-align: right;\n",
       "    }\n",
       "</style>\n",
       "<table border=\"1\" class=\"dataframe\">\n",
       "  <thead>\n",
       "    <tr style=\"text-align: right;\">\n",
       "      <th></th>\n",
       "      <th>to</th>\n",
       "      <th>price</th>\n",
       "    </tr>\n",
       "  </thead>\n",
       "  <tbody>\n",
       "    <tr>\n",
       "      <th>0</th>\n",
       "      <td>Florianopolis (SC)</td>\n",
       "      <td>6.795997e+07</td>\n",
       "    </tr>\n",
       "    <tr>\n",
       "      <th>1</th>\n",
       "      <td>Aracaju (SE)</td>\n",
       "      <td>3.965263e+07</td>\n",
       "    </tr>\n",
       "    <tr>\n",
       "      <th>2</th>\n",
       "      <td>Campo Grande (MS)</td>\n",
       "      <td>2.923538e+07</td>\n",
       "    </tr>\n",
       "    <tr>\n",
       "      <th>3</th>\n",
       "      <td>Recife (PE)</td>\n",
       "      <td>2.899354e+07</td>\n",
       "    </tr>\n",
       "    <tr>\n",
       "      <th>4</th>\n",
       "      <td>Brasilia (DF)</td>\n",
       "      <td>2.359998e+07</td>\n",
       "    </tr>\n",
       "    <tr>\n",
       "      <th>5</th>\n",
       "      <td>Salvador (BH)</td>\n",
       "      <td>2.162551e+07</td>\n",
       "    </tr>\n",
       "    <tr>\n",
       "      <th>6</th>\n",
       "      <td>Natal (RN)</td>\n",
       "      <td>1.967624e+07</td>\n",
       "    </tr>\n",
       "    <tr>\n",
       "      <th>7</th>\n",
       "      <td>Sao Paulo (SP)</td>\n",
       "      <td>1.531709e+07</td>\n",
       "    </tr>\n",
       "    <tr>\n",
       "      <th>8</th>\n",
       "      <td>Rio de Janeiro (RJ)</td>\n",
       "      <td>1.423844e+07</td>\n",
       "    </tr>\n",
       "  </tbody>\n",
       "</table>\n",
       "</div>"
      ],
      "text/plain": [
       "                    to         price\n",
       "0   Florianopolis (SC)  6.795997e+07\n",
       "1         Aracaju (SE)  3.965263e+07\n",
       "2    Campo Grande (MS)  2.923538e+07\n",
       "3          Recife (PE)  2.899354e+07\n",
       "4        Brasilia (DF)  2.359998e+07\n",
       "5        Salvador (BH)  2.162551e+07\n",
       "6           Natal (RN)  1.967624e+07\n",
       "7       Sao Paulo (SP)  1.531709e+07\n",
       "8  Rio de Janeiro (RJ)  1.423844e+07"
      ]
     },
     "execution_count": 351,
     "metadata": {},
     "output_type": "execute_result"
    }
   ],
   "source": [
    "total_regiao"
   ]
  },
  {
   "cell_type": "code",
   "execution_count": 352,
   "id": "877111fb",
   "metadata": {},
   "outputs": [
    {
     "data": {
      "text/plain": [
       "<AxesSubplot:xlabel='price', ylabel='to'>"
      ]
     },
     "execution_count": 352,
     "metadata": {},
     "output_type": "execute_result"
    },
    {
     "data": {
      "image/png": "[encoded data removed]",
      "text/plain": [
       "<Figure size 432x288 with 1 Axes>"
      ]
     },
     "metadata": {
      "needs_background": "light"
     },
     "output_type": "display_data"
    }
   ],
   "source": [
    "sns.barplot(y=total_regiao['to'], x=total_regiao['price'])"
   ]
  },
  {
   "cell_type": "markdown",
   "id": "49235f27",
   "metadata": {},
   "source": [
    "### Qual mês teve o maior faturamento com viagens?"
   ]
  },
  {
   "cell_type": "code",
   "execution_count": 353,
   "id": "a46d6aab",
   "metadata": {},
   "outputs": [],
   "source": [
    "# groupby mês x preço\n",
    "total_mes = df.groupby('month').agg({'price':'sum'}).sort_values('price', ascending = False).reset_index()"
   ]
  },
  {
   "cell_type": "code",
   "execution_count": 354,
   "id": "5e39d258",
   "metadata": {},
   "outputs": [
    {
     "data": {
      "text/html": [
       "<div>\n",
       "<style scoped>\n",
       "    .dataframe tbody tr th:only-of-type {\n",
       "        vertical-align: middle;\n",
       "    }\n",
       "\n",
       "    .dataframe tbody tr th {\n",
       "        vertical-align: top;\n",
       "    }\n",
       "\n",
       "    .dataframe thead th {\n",
       "        text-align: right;\n",
       "    }\n",
       "</style>\n",
       "<table border=\"1\" class=\"dataframe\">\n",
       "  <thead>\n",
       "    <tr style=\"text-align: right;\">\n",
       "      <th></th>\n",
       "      <th>month</th>\n",
       "      <th>price</th>\n",
       "    </tr>\n",
       "  </thead>\n",
       "  <tbody>\n",
       "    <tr>\n",
       "      <th>0</th>\n",
       "      <td>10</td>\n",
       "      <td>2.766304e+07</td>\n",
       "    </tr>\n",
       "    <tr>\n",
       "      <th>1</th>\n",
       "      <td>12</td>\n",
       "      <td>2.519702e+07</td>\n",
       "    </tr>\n",
       "    <tr>\n",
       "      <th>2</th>\n",
       "      <td>11</td>\n",
       "      <td>2.467233e+07</td>\n",
       "    </tr>\n",
       "    <tr>\n",
       "      <th>3</th>\n",
       "      <td>01</td>\n",
       "      <td>2.433401e+07</td>\n",
       "    </tr>\n",
       "    <tr>\n",
       "      <th>4</th>\n",
       "      <td>03</td>\n",
       "      <td>2.182045e+07</td>\n",
       "    </tr>\n",
       "    <tr>\n",
       "      <th>5</th>\n",
       "      <td>04</td>\n",
       "      <td>2.159983e+07</td>\n",
       "    </tr>\n",
       "    <tr>\n",
       "      <th>6</th>\n",
       "      <td>02</td>\n",
       "      <td>2.145515e+07</td>\n",
       "    </tr>\n",
       "    <tr>\n",
       "      <th>7</th>\n",
       "      <td>05</td>\n",
       "      <td>2.018524e+07</td>\n",
       "    </tr>\n",
       "    <tr>\n",
       "      <th>8</th>\n",
       "      <td>07</td>\n",
       "      <td>1.933508e+07</td>\n",
       "    </tr>\n",
       "    <tr>\n",
       "      <th>9</th>\n",
       "      <td>09</td>\n",
       "      <td>1.856591e+07</td>\n",
       "    </tr>\n",
       "    <tr>\n",
       "      <th>10</th>\n",
       "      <td>06</td>\n",
       "      <td>1.835070e+07</td>\n",
       "    </tr>\n",
       "    <tr>\n",
       "      <th>11</th>\n",
       "      <td>08</td>\n",
       "      <td>1.712003e+07</td>\n",
       "    </tr>\n",
       "  </tbody>\n",
       "</table>\n",
       "</div>"
      ],
      "text/plain": [
       "   month         price\n",
       "0     10  2.766304e+07\n",
       "1     12  2.519702e+07\n",
       "2     11  2.467233e+07\n",
       "3     01  2.433401e+07\n",
       "4     03  2.182045e+07\n",
       "5     04  2.159983e+07\n",
       "6     02  2.145515e+07\n",
       "7     05  2.018524e+07\n",
       "8     07  1.933508e+07\n",
       "9     09  1.856591e+07\n",
       "10    06  1.835070e+07\n",
       "11    08  1.712003e+07"
      ]
     },
     "execution_count": 354,
     "metadata": {},
     "output_type": "execute_result"
    }
   ],
   "source": [
    "total_mes"
   ]
  },
  {
   "cell_type": "code",
   "execution_count": 355,
   "id": "9e79decf",
   "metadata": {},
   "outputs": [
    {
     "data": {
      "text/plain": [
       "<AxesSubplot:xlabel='price', ylabel='month'>"
      ]
     },
     "execution_count": 355,
     "metadata": {},
     "output_type": "execute_result"
    },
    {
     "data": {
      "image/png": "[encoded data removed]",
      "text/plain": [
       "<Figure size 432x288 with 1 Axes>"
      ]
     },
     "metadata": {
      "needs_background": "light"
     },
     "output_type": "display_data"
    }
   ],
   "source": [
    "# Faturamento pór mês: O mês de outubro teve o maior faturamento com viagens\n",
    "sns.barplot(y=total_mes['month'], x=total_mes['price'])"
   ]
  },
  {
   "cell_type": "code",
   "execution_count": 20,
   "id": "663a2a4b",
   "metadata": {},
   "outputs": [
    {
     "data": {
      "text/html": [
       "<div>\n",
       "<style scoped>\n",
       "    .dataframe tbody tr th:only-of-type {\n",
       "        vertical-align: middle;\n",
       "    }\n",
       "\n",
       "    .dataframe tbody tr th {\n",
       "        vertical-align: top;\n",
       "    }\n",
       "\n",
       "    .dataframe thead th {\n",
       "        text-align: right;\n",
       "    }\n",
       "</style>\n",
       "<table border=\"1\" class=\"dataframe\">\n",
       "  <thead>\n",
       "    <tr style=\"text-align: right;\">\n",
       "      <th></th>\n",
       "      <th>price</th>\n",
       "    </tr>\n",
       "    <tr>\n",
       "      <th>month</th>\n",
       "      <th></th>\n",
       "    </tr>\n",
       "  </thead>\n",
       "  <tbody>\n",
       "    <tr>\n",
       "      <th>10</th>\n",
       "      <td>2.766304e+07</td>\n",
       "    </tr>\n",
       "    <tr>\n",
       "      <th>12</th>\n",
       "      <td>2.519702e+07</td>\n",
       "    </tr>\n",
       "    <tr>\n",
       "      <th>11</th>\n",
       "      <td>2.467233e+07</td>\n",
       "    </tr>\n",
       "    <tr>\n",
       "      <th>01</th>\n",
       "      <td>2.433401e+07</td>\n",
       "    </tr>\n",
       "    <tr>\n",
       "      <th>03</th>\n",
       "      <td>2.182045e+07</td>\n",
       "    </tr>\n",
       "    <tr>\n",
       "      <th>04</th>\n",
       "      <td>2.159983e+07</td>\n",
       "    </tr>\n",
       "    <tr>\n",
       "      <th>02</th>\n",
       "      <td>2.145515e+07</td>\n",
       "    </tr>\n",
       "    <tr>\n",
       "      <th>05</th>\n",
       "      <td>2.018524e+07</td>\n",
       "    </tr>\n",
       "    <tr>\n",
       "      <th>07</th>\n",
       "      <td>1.933508e+07</td>\n",
       "    </tr>\n",
       "    <tr>\n",
       "      <th>09</th>\n",
       "      <td>1.856591e+07</td>\n",
       "    </tr>\n",
       "    <tr>\n",
       "      <th>06</th>\n",
       "      <td>1.835070e+07</td>\n",
       "    </tr>\n",
       "    <tr>\n",
       "      <th>08</th>\n",
       "      <td>1.712003e+07</td>\n",
       "    </tr>\n",
       "  </tbody>\n",
       "</table>\n",
       "</div>"
      ],
      "text/plain": [
       "              price\n",
       "month              \n",
       "10     2.766304e+07\n",
       "12     2.519702e+07\n",
       "11     2.467233e+07\n",
       "01     2.433401e+07\n",
       "03     2.182045e+07\n",
       "04     2.159983e+07\n",
       "02     2.145515e+07\n",
       "05     2.018524e+07\n",
       "07     1.933508e+07\n",
       "09     1.856591e+07\n",
       "06     1.835070e+07\n",
       "08     1.712003e+07"
      ]
     },
     "execution_count": 20,
     "metadata": {},
     "output_type": "execute_result"
    }
   ],
   "source": [
    "# conferindo\n",
    "df.groupby(['month']).agg({'price':'sum'}).sort_values(by='price', ascending=False)"
   ]
  },
  {
   "cell_type": "code",
   "execution_count": 16,
   "id": "3d1a0f06",
   "metadata": {},
   "outputs": [
    {
     "data": {
      "text/html": [
       "<div>\n",
       "<style scoped>\n",
       "    .dataframe tbody tr th:only-of-type {\n",
       "        vertical-align: middle;\n",
       "    }\n",
       "\n",
       "    .dataframe tbody tr th {\n",
       "        vertical-align: top;\n",
       "    }\n",
       "\n",
       "    .dataframe thead th {\n",
       "        text-align: right;\n",
       "    }\n",
       "</style>\n",
       "<table border=\"1\" class=\"dataframe\">\n",
       "  <thead>\n",
       "    <tr style=\"text-align: right;\">\n",
       "      <th></th>\n",
       "      <th>price</th>\n",
       "    </tr>\n",
       "    <tr>\n",
       "      <th>flightType</th>\n",
       "      <th></th>\n",
       "    </tr>\n",
       "  </thead>\n",
       "  <tbody>\n",
       "    <tr>\n",
       "      <th>economic</th>\n",
       "      <td>5.100695e+07</td>\n",
       "    </tr>\n",
       "    <tr>\n",
       "      <th>firstClass</th>\n",
       "      <td>1.374975e+08</td>\n",
       "    </tr>\n",
       "    <tr>\n",
       "      <th>premium</th>\n",
       "      <td>7.179429e+07</td>\n",
       "    </tr>\n",
       "  </tbody>\n",
       "</table>\n",
       "</div>"
      ],
      "text/plain": [
       "                   price\n",
       "flightType              \n",
       "economic    5.100695e+07\n",
       "firstClass  1.374975e+08\n",
       "premium     7.179429e+07"
      ]
     },
     "execution_count": 16,
     "metadata": {},
     "output_type": "execute_result"
    }
   ],
   "source": [
    "df.groupby(['flightType']).agg({'price':'sum'})"
   ]
  },
  {
   "cell_type": "code",
   "execution_count": 17,
   "id": "6c8fa8f2",
   "metadata": {},
   "outputs": [
    {
     "data": {
      "text/html": [
       "<div>\n",
       "<style scoped>\n",
       "    .dataframe tbody tr th:only-of-type {\n",
       "        vertical-align: middle;\n",
       "    }\n",
       "\n",
       "    .dataframe tbody tr th {\n",
       "        vertical-align: top;\n",
       "    }\n",
       "\n",
       "    .dataframe thead th {\n",
       "        text-align: right;\n",
       "    }\n",
       "</style>\n",
       "<table border=\"1\" class=\"dataframe\">\n",
       "  <thead>\n",
       "    <tr style=\"text-align: right;\">\n",
       "      <th></th>\n",
       "      <th>price</th>\n",
       "    </tr>\n",
       "    <tr>\n",
       "      <th>agency</th>\n",
       "      <th></th>\n",
       "    </tr>\n",
       "  </thead>\n",
       "  <tbody>\n",
       "    <tr>\n",
       "      <th>CloudFy</th>\n",
       "      <td>1.069393e+08</td>\n",
       "    </tr>\n",
       "    <tr>\n",
       "      <th>FlyingDrops</th>\n",
       "      <td>4.597320e+07</td>\n",
       "    </tr>\n",
       "    <tr>\n",
       "      <th>Rainbow</th>\n",
       "      <td>1.073862e+08</td>\n",
       "    </tr>\n",
       "  </tbody>\n",
       "</table>\n",
       "</div>"
      ],
      "text/plain": [
       "                    price\n",
       "agency                   \n",
       "CloudFy      1.069393e+08\n",
       "FlyingDrops  4.597320e+07\n",
       "Rainbow      1.073862e+08"
      ]
     },
     "execution_count": 17,
     "metadata": {},
     "output_type": "execute_result"
    }
   ],
   "source": [
    "df.groupby(['agency']).agg({'price':'sum'})"
   ]
  },
  {
   "cell_type": "markdown",
   "id": "6c2ed5c3",
   "metadata": {},
   "source": [
    "### perguntas"
   ]
  },
  {
   "cell_type": "markdown",
   "id": "502b1ca3",
   "metadata": {},
   "source": [
    "Quais as regiões foram mais visitadas por durante o ano?"
   ]
  },
  {
   "cell_type": "markdown",
   "id": "e59491af",
   "metadata": {},
   "source": [
    "Qual e o período que as agencias mais faturam?"
   ]
  },
  {
   "cell_type": "markdown",
   "id": "2eb99d77",
   "metadata": {},
   "source": [
    "Qual é a epoca do ano que as regioes mais recebem visitas?"
   ]
  },
  {
   "cell_type": "markdown",
   "id": "3016d662",
   "metadata": {},
   "source": [
    "Primeira Classe é caro mesmo?"
   ]
  },
  {
   "cell_type": "markdown",
   "id": "ad80e964",
   "metadata": {},
   "source": [
    "Turismo"
   ]
  },
  {
   "cell_type": "markdown",
   "id": "0082516f",
   "metadata": {},
   "source": [
    "Qual é a epoca do ano que ocorrem mais viagens? "
   ]
  },
  {
   "cell_type": "markdown",
   "id": "930e85a4",
   "metadata": {},
   "source": [
    "Verão? Ferias? Final de Ano?"
   ]
  },
  {
   "cell_type": "code",
   "execution_count": null,
   "id": "f53c813e",
   "metadata": {},
   "outputs": [],
   "source": [
    "# A maioria dos passageiros optaram  viajar para  Florianopolis , seguido de Aracaju e Campo Grande \n",
    "# clase firstClass e escolheram a agencia FlyingDrops\n",
    "# o periodo do ano em que mais ocorerram viajens foi Outubro, Dezembro e Novembro (final de ano)\n",
    "# O mês em que as agencias mais faturaram foi foi o periode de Outubro a Janeiro\n",
    "# e as regiões foram mais visitadas foram floripa e aracaju"
   ]
  }
 ],
 "metadata": {
  "kernelspec": {
   "display_name": "Python 3",
   "language": "python",
   "name": "python3"
  },
  "language_info": {
   "codemirror_mode": {
    "name": "ipython",
    "version": 3
   },
   "file_extension": ".py",
   "mimetype": "text/x-python",
   "name": "python",
   "nbconvert_exporter": "python",
   "pygments_lexer": "ipython3",
   "version": "3.8.8"
  }
 },
 "nbformat": 4,
 "nbformat_minor": 5
}
